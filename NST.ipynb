{
  "cells": [
    {
      "cell_type": "markdown",
      "metadata": {
        "id": "-IovJTs45N4r"
      },
      "source": [
        "# Tutorial de Neural Style Transfer com o Keras\n",
        "To run this, please use the GPU hardware acceleration in Colab"
      ]
    },
    {
      "cell_type": "code",
      "execution_count": null,
      "metadata": {
        "id": "0ZpXMYq_5Fur"
      },
      "outputs": [],
      "source": [
        "import numpy as np\n",
        "import tensorflow as tf\n",
        "from tensorflow import keras\n",
        "from tensorflow.keras.applications import vgg19"
      ]
    },
    {
      "cell_type": "code",
      "execution_count": null,
      "metadata": {
        "id": "RvSieYFo7aK1"
      },
      "outputs": [],
      "source": [
        "base_image_path = \"/content/santos.jpg\"\n",
        "style_reference_image_path = keras.utils.get_file(\n",
        "    \"starry_night.jpg\", \"https://i.imgur.com/9ooB60I.jpg\"\n",
        ")\n",
        "\n",
        "result_prefix = \"dog_van_gogh\""
      ]
    },
    {
      "cell_type": "code",
      "execution_count": null,
      "metadata": {
        "id": "u9C21D2i8RG5"
      },
      "outputs": [],
      "source": [
        "#Pesos de cada tipo de perda\n",
        "\n",
        "total_variation_weight= 1e-6  # esse tipo de perda se refere a coerência visual\n",
        "# da imagem final, impondo aos pixels dela continuidade espacial local, ou seja,\n",
        "# quanto menor esse erro, mas a imagem faz sentido e evita um pixel ser de outra\n",
        "# cor de uma forma mto sem sentido.\n",
        "\n",
        "style_weight = 1e-6  # essa perda tem a ver com deep learning e é tipo o\n",
        "# o resultado da soma das distâncias em L2 das matrizes de Gram \n",
        "# que representam as imagens e q foram extraídas de cada layer da Convnet. A \n",
        "# ideia por traz disso é capturar a disposição de cor e textura das imagens à \n",
        "# diferença espacial, definido a uma escala grande que por sua vez tem a ver com\n",
        "# cada layer da CNN. \n",
        "\n",
        "# Como q isso funciona é assim: \n",
        "# Uma CNN pega cada informações da imagem e forma matrizes com elas, \n",
        "# tipo uma matriz q tem informações sobre as linhas, sobre as colunas, enfim\n",
        "# caracteristicas da pintura. O estilo não pode ser computado dessa forma porque\n",
        "# ele é meio q uma combinação desses elementos, ent o q se faz é transformar\n",
        "# essas matrizes numa linha e multiplicar pela transposta, o q seria uma Matriz\n",
        "# de Gram\n",
        "\n",
        "content_weight = 2.5e-8 \n",
        "# Essa perda tem a ver com deixar a imagem resultante mais próxima da original,\n",
        "# tbm faz a soma das distancias em L2 entre a img resultante e a original. "
      ]
    },
    {
      "cell_type": "code",
      "execution_count": null,
      "metadata": {
        "id": "3TGoIVjkCGZP"
      },
      "outputs": [],
      "source": [
        "width, height = keras.preprocessing.image.load_img(base_image_path).size\n",
        "img_nrows = 400\n",
        "img_ncols = int(width * img_nrows / height)"
      ]
    },
    {
      "cell_type": "code",
      "execution_count": null,
      "metadata": {
        "id": "xa485-8NEtRK"
      },
      "outputs": [],
      "source": [
        "from IPython.display import Image, display\n",
        "\n",
        "display(Image(base_image_path))\n",
        "display(Image(style_reference_image_path))"
      ]
    },
    {
      "cell_type": "markdown",
      "metadata": {
        "id": "T2QADiVOHLyc"
      },
      "source": [
        "# Fazer as funções de transformar a imagem em tensor e vice-versa"
      ]
    },
    {
      "cell_type": "code",
      "execution_count": null,
      "metadata": {
        "id": "_c6n7d9TFcvj"
      },
      "outputs": [],
      "source": [
        "def preprocess_image(image_path):\n",
        "    # Util function to open, resize and format pictures into appropriate tensors\n",
        "    img = keras.preprocessing.image.load_img(\n",
        "        image_path, target_size=(img_nrows, img_ncols)\n",
        "    )\n",
        "    img = keras.preprocessing.image.img_to_array(img)\n",
        "    img = np.expand_dims(img, axis=0)\n",
        "    img = vgg19.preprocess_input(img)\n",
        "    return tf.convert_to_tensor(img)\n",
        "\n",
        "def deprocess_image(x):\n",
        "  x = x.reshape((img_nrows, img_ncols, 3))\n",
        "\n",
        "  # remove zero center\n",
        "  x[:, :, 0] += 103.939\n",
        "  x[:, :, 1] += 116.779\n",
        "  x[:, :, 2] += 123.68\n",
        "\n",
        "  # de BGR p/ RGB\n",
        "  x = x[:, :, ::-1]\n",
        "  x = np.clip(x, 0, 255).astype(\"uint8\")\n",
        "  return x"
      ]
    },
    {
      "cell_type": "markdown",
      "metadata": {
        "id": "_SB6__sHHVMn"
      },
      "source": [
        "# Fazer as funções p/ computar a matriz de gram e as perdas"
      ]
    },
    {
      "cell_type": "code",
      "execution_count": null,
      "metadata": {
        "id": "GDvAlIdfG_6F"
      },
      "outputs": [],
      "source": [
        "def gram_matrix(x):  # Função pra criar a Matriz de Gram\n",
        "  x = tf.transpose(x, (2,0,1))\n",
        "  features = tf.reshape(x, (tf.shape(x)[0], -1))\n",
        "  gram = tf.matmul(features, tf.transpose(features))\n",
        "  return gram\n",
        "\n",
        "def style_loss(style, combination): # computa a perda de \"estilo\"\n",
        "  S = gram_matrix(style)\n",
        "  C = gram_matrix(combination)\n",
        "  channels = 3\n",
        "  size = img_nrows * img_ncols\n",
        "  return tf.reduce_sum(tf.square(S - C)) / (4.0 * (channels ** 2) * (size ** 2))\n",
        "\n",
        "def content_loss(base, combination): # computa a perda no conteudo\n",
        "  return tf.reduce_sum(tf.square(combination - base))\n",
        "\n",
        "def total_variation_loss(x): # computa a perda de variação total, ou seja, coerencia visual\n",
        "    a = tf.square(\n",
        "        x[:, : img_nrows - 1, : img_ncols - 1, :] - x[:, 1:, : img_ncols - 1, :]\n",
        "    )\n",
        "    b = tf.square(\n",
        "        x[:, : img_nrows - 1, : img_ncols - 1, :] - x[:, : img_nrows - 1, 1:, :]\n",
        "    )\n",
        "    return tf.reduce_sum(tf.pow(a + b, 1.25))"
      ]
    },
    {
      "cell_type": "code",
      "execution_count": null,
      "metadata": {
        "id": "0Jr4zLm8Jbtf",
        "colab": {
          "base_uri": "https://localhost:8080/"
        },
        "outputId": "39e00e47-a112-4765-b4a9-e921842a35d2"
      },
      "outputs": [
        {
          "output_type": "stream",
          "name": "stdout",
          "text": [
            "Downloading data from https://storage.googleapis.com/tensorflow/keras-applications/vgg19/vgg19_weights_tf_dim_ordering_tf_kernels_notop.h5\n",
            "80142336/80134624 [==============================] - 0s 0us/step\n",
            "80150528/80134624 [==============================] - 0s 0us/step\n"
          ]
        }
      ],
      "source": [
        "# Usando um modelo pré treinado de VGG19\n",
        "model = vgg19.VGG19(weights=\"imagenet\", include_top = False)\n",
        "\n",
        "outputs_dict = dict([(layer.name, layer.output) for layer in model.layers])\n",
        "\n",
        "feature_extractor = keras.Model(inputs = model.inputs, outputs = outputs_dict)"
      ]
    },
    {
      "cell_type": "code",
      "execution_count": null,
      "metadata": {
        "id": "gTcULHwPKz7T"
      },
      "outputs": [],
      "source": [
        "style_layer_names = [\n",
        "    \"block1_conv1\",\n",
        "    \"block2_conv1\",\n",
        "    \"block3_conv1\",\n",
        "    \"block4_conv1\",\n",
        "    \"block5_conv1\",\n",
        "]\n",
        "\n",
        "content_layer_name = \"block5_conv2\"\n",
        "\n",
        "def compute_loss(combination_image, base_image, style_reference_image):\n",
        "  # Essa função computa a perda total\n",
        "    input_tensor = tf.concat(\n",
        "        [base_image, style_reference_image, combination_image], axis=0\n",
        "    )\n",
        "    features = feature_extractor(input_tensor)\n",
        "\n",
        "    # Initialize the loss\n",
        "    loss = tf.zeros(shape=())\n",
        "\n",
        "    # Add content loss\n",
        "    layer_features = features[content_layer_name]\n",
        "    base_image_features = layer_features[0, :, :, :]\n",
        "    combination_features = layer_features[2, :, :, :]\n",
        "    loss = loss + content_weight * content_loss(\n",
        "        base_image_features, combination_features\n",
        "    )\n",
        "    # Add style loss\n",
        "    for layer_name in style_layer_names:\n",
        "        layer_features = features[layer_name]\n",
        "        style_reference_features = layer_features[1, :, :, :]\n",
        "        combination_features = layer_features[2, :, :, :]\n",
        "        sl = style_loss(style_reference_features, combination_features)\n",
        "        loss += (style_weight / len(style_layer_names)) * sl\n",
        "\n",
        "    # Add total variation loss\n",
        "    loss += total_variation_weight * total_variation_loss(combination_image)\n",
        "    return loss"
      ]
    },
    {
      "cell_type": "code",
      "execution_count": null,
      "metadata": {
        "id": "iwsJNekPLzAL"
      },
      "outputs": [],
      "source": [
        "@tf.function\n",
        "def compute_loss_and_grads(combination_image, base_image, style_reference_image):\n",
        "  # essa \n",
        "    print(\"cheguei aq\")\n",
        "    with tf.GradientTape() as tape:\n",
        "        loss = compute_loss(combination_image, base_image, style_reference_image)\n",
        "    grads = tape.gradient(loss, combination_image)\n",
        "    return loss, grads"
      ]
    },
    {
      "cell_type": "code",
      "execution_count": null,
      "metadata": {
        "id": "55PjXkZvMJFf"
      },
      "outputs": [],
      "source": [
        "optimizer = keras.optimizers.SGD(\n",
        "    keras.optimizers.schedules.ExponentialDecay(\n",
        "        initial_learning_rate=100.0, decay_steps=100, decay_rate=0.96\n",
        "    )\n",
        ")\n",
        "\n",
        "base_image = preprocess_image(base_image_path)\n",
        "style_reference_image = preprocess_image(style_reference_image_path)\n",
        "combination_image = tf.Variable(preprocess_image(base_image_path))\n",
        "\n",
        "iterations = 4000\n",
        "for i in range(1, iterations + 1):\n",
        "    loss, grads = compute_loss_and_grads(\n",
        "        combination_image, base_image, style_reference_image\n",
        "    )\n",
        "    optimizer.apply_gradients([(grads, combination_image)])\n",
        "    if i % 100 == 0:\n",
        "        print(\"Iteration %d: loss=%.2f\" % (i, loss))\n",
        "        img = deprocess_image(combination_image.numpy())\n",
        "        fname = result_prefix + \"_at_iteration_%d.png\" % i\n",
        "        keras.preprocessing.image.save_img(fname, img)"
      ]
    },
    {
      "cell_type": "code",
      "execution_count": null,
      "metadata": {
        "id": "koo3eYqUMNL0"
      },
      "outputs": [],
      "source": [
        "display(Image(result_prefix + \"_at_iteration_4000.png\"))"
      ]
    }
  ],
  "metadata": {
    "accelerator": "GPU",
    "colab": {
      "provenance": []
    },
    "gpuClass": "standard",
    "kernelspec": {
      "display_name": "Python 3",
      "name": "python3"
    },
    "language_info": {
      "name": "python"
    }
  },
  "nbformat": 4,
  "nbformat_minor": 0
}